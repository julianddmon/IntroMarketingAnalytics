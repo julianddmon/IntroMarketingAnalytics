{
  "nbformat": 4,
  "nbformat_minor": 0,
  "metadata": {
    "colab": {
      "provenance": []
    },
    "kernelspec": {
      "name": "python3",
      "display_name": "Python 3"
    },
    "language_info": {
      "name": "python"
    }
  },
  "cells": [
    {
      "cell_type": "code",
      "execution_count": 1,
      "metadata": {
        "id": "Sq77VynxM3I4"
      },
      "outputs": [],
      "source": [
        "# Parte 1"
      ]
    },
    {
      "cell_type": "code",
      "source": [
        "print (\"Hola mundo!\")"
      ],
      "metadata": {
        "colab": {
          "base_uri": "https://localhost:8080/"
        },
        "id": "GzfMaNkKNE8Q",
        "outputId": "0a03d993-a8d7-40ba-89c4-29fb13d3ad1b"
      },
      "execution_count": 2,
      "outputs": [
        {
          "output_type": "stream",
          "name": "stdout",
          "text": [
            "Hola mundo!\n"
          ]
        }
      ]
    }
  ]
}